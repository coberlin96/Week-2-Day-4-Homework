{
 "cells": [
  {
   "cell_type": "markdown",
   "metadata": {},
   "source": [
    "# User-Defined Functions & Scoping"
   ]
  },
  {
   "cell_type": "markdown",
   "metadata": {},
   "source": [
    "## Tasks Today:\n",
    "\n",
    "\n",
    "1) Functions <br>\n",
    " &nbsp;&nbsp;&nbsp;&nbsp; a) User-Defined vs. Built-In Functions <br>\n",
    " &nbsp;&nbsp;&nbsp;&nbsp; b) Accepting Parameters <br>\n",
    " &nbsp;&nbsp;&nbsp;&nbsp; c) Default Parameters <br>\n",
    " &nbsp;&nbsp;&nbsp;&nbsp; d) Making an Argument Optional <br>\n",
    " &nbsp;&nbsp;&nbsp;&nbsp; e) Keyword Arguments <br>\n",
    " &nbsp;&nbsp;&nbsp;&nbsp; f) Returning Values <br>\n",
    " &nbsp;&nbsp;&nbsp;&nbsp; g) *args <br>\n",
    " &nbsp;&nbsp;&nbsp;&nbsp; h) Docstring <br>\n",
    " &nbsp;&nbsp;&nbsp;&nbsp; i) Using a User Function in a Loop <br>\n",
    "2) Scope\n",
    "3) Creating more User-Defined functions "
   ]
  },
  {
   "cell_type": "markdown",
   "metadata": {},
   "source": [
    "\n",
    "## Functions"
   ]
  },
  {
   "cell_type": "markdown",
   "metadata": {},
   "source": [
    "##### User-Defined vs. Built-In Functions"
   ]
  },
  {
   "cell_type": "code",
   "execution_count": null,
   "metadata": {},
   "outputs": [],
   "source": [
    "# Built-in Function\n",
    "print(\"Hello\")\n",
    "\n",
    "# User-defined Function\n",
    "def say_hello():\n",
    "    return \"Hello World\"\n",
    "\n",
    "# show the fnction call in memory\n",
    "print(say_hello)\n",
    "\n",
    "#calling a function\n",
    "print(say_hello())"
   ]
  },
  {
   "cell_type": "markdown",
   "metadata": {},
   "source": [
    "##### Accepting Parameters"
   ]
  },
  {
   "cell_type": "code",
   "execution_count": 1,
   "metadata": {
    "scrolled": true
   },
   "outputs": [
    {
     "name": "stdout",
     "output_type": "stream",
     "text": [
      "Hello my last name is Oberlin and my first name is Connor\n"
     ]
    }
   ],
   "source": [
    "# Order matters\n",
    "first_name='Connor'\n",
    "last_name='Oberlin'\n",
    "\n",
    "def print_full_name(last, first):\n",
    "    return f\"Hello my last name is {last} and my first name is {first}\"\n",
    "\n",
    "print(print_full_name(last_name,first_name))"
   ]
  },
  {
   "cell_type": "markdown",
   "metadata": {},
   "source": [
    "##### Default Parameters"
   ]
  },
  {
   "cell_type": "code",
   "execution_count": null,
   "metadata": {},
   "outputs": [],
   "source": [
    "# Default Parameters must come after non-default parameters at all times\n",
    "\n",
    "def june_bday(day, year, month = \"June\")"
   ]
  },
  {
   "cell_type": "code",
   "execution_count": null,
   "metadata": {},
   "outputs": [],
   "source": []
  },
  {
   "cell_type": "markdown",
   "metadata": {},
   "source": [
    "##### Making an Argument Optional"
   ]
  },
  {
   "cell_type": "code",
   "execution_count": 4,
   "metadata": {},
   "outputs": [
    {
     "name": "stdout",
     "output_type": "stream",
     "text": [
      "Hello Mr. Alister Ed\n"
     ]
    }
   ],
   "source": [
    "#Argument that defaults to nothing\n",
    "def print_horse_name(first, middle='', last = 'Ed'):\n",
    "    return f'Hello {first} {middle} {last}'\n",
    "print(print_horse_name('Mr.', 'Alister'))"
   ]
  },
  {
   "cell_type": "markdown",
   "metadata": {},
   "source": [
    "##### Keyword Arguments"
   ]
  },
  {
   "cell_type": "code",
   "execution_count": 5,
   "metadata": {},
   "outputs": [
    {
     "name": "stdout",
     "output_type": "stream",
     "text": [
      "Bruce's power is money\n"
     ]
    }
   ],
   "source": [
    "# Referencing an argument by it's keyword\n",
    "def print_hero(name, power='super strength'):\n",
    "    return f'{name}\\'s power is {power}'\n",
    "print(print_hero(power = 'money', name = 'Bruce'))"
   ]
  },
  {
   "cell_type": "code",
   "execution_count": 10,
   "metadata": {},
   "outputs": [
    {
     "name": "stdout",
     "output_type": "stream",
     "text": [
      "This train has 8  cars and is headed by Conductor Larson\n",
      "None\n"
     ]
    }
   ],
   "source": [
    "# Create a function that takes at least 1 postional argument, 1 optional argument, and 1 default argument\n",
    "\n",
    "def train(conductor, car_type='', cars=8):\n",
    "    print(f\"This train has {str(cars)} {car_type} cars and is headed by Conductor {conductor}\")\n",
    "\n",
    "print(train('Larson'))"
   ]
  },
  {
   "cell_type": "markdown",
   "metadata": {},
   "source": [
    "# Creating a start, stop, step function"
   ]
  },
  {
   "cell_type": "code",
   "execution_count": 11,
   "metadata": {},
   "outputs": [
    {
     "name": "stdout",
     "output_type": "stream",
     "text": [
      "3\n",
      "5\n",
      "7\n",
      "9\n",
      "11\n"
     ]
    }
   ],
   "source": [
    "def my_range(stop, start = 0, step = 1):\n",
    "    for i in range (start, stop, step):\n",
    "        print(i)\n",
    "        \n",
    "my_range(12,3,2)"
   ]
  },
  {
   "cell_type": "markdown",
   "metadata": {},
   "source": [
    "##### Returning Values"
   ]
  },
  {
   "cell_type": "code",
   "execution_count": 13,
   "metadata": {},
   "outputs": [
    {
     "name": "stdout",
     "output_type": "stream",
     "text": [
      "100\n"
     ]
    }
   ],
   "source": [
    "def add_nums(num1, num2):\n",
    "    return num1+num2\n",
    "total=add_nums(35,65)\n",
    "print(total)"
   ]
  },
  {
   "cell_type": "markdown",
   "metadata": {},
   "source": [
    "##### *args / **kwargs (keyword arguments)"
   ]
  },
  {
   "cell_type": "code",
   "execution_count": 14,
   "metadata": {},
   "outputs": [
    {
     "name": "stdout",
     "output_type": "stream",
     "text": [
      "1\n",
      "(3, 27, 'pain')\n",
      "{'names': ['Ryan', 'Tyrell'], 'subject': 'Python'}\n"
     ]
    }
   ],
   "source": [
    "def print_args(num1, *args, **keywords):\n",
    "    print(num1)\n",
    "    print(args)\n",
    "    print(keywords)\n",
    "print_args(1, 3, 27, 'pain', names=['Ryan', 'Tyrell'], subject='Python')"
   ]
  },
  {
   "cell_type": "code",
   "execution_count": 17,
   "metadata": {},
   "outputs": [
    {
     "name": "stdout",
     "output_type": "stream",
     "text": [
      "5\n",
      "61\n",
      "The world\n",
      "time : 10:07\n",
      "destination : Houston\n",
      "age : 27\n"
     ]
    }
   ],
   "source": [
    "#write a function that accepts args and kwargs and loops over them to print each one out on a seperate line\n",
    "\n",
    "def loop_args(*args, **kwargs):\n",
    "    for item in args:\n",
    "        print (item)\n",
    "    for key, value in kwargs.items():\n",
    "        print(key,':',value)\n",
    "\n",
    "loop_args(5,61,'The world', time='10:07', destination='Houston', age=27)"
   ]
  },
  {
   "cell_type": "markdown",
   "metadata": {},
   "source": [
    "##### Docstring"
   ]
  },
  {
   "cell_type": "code",
   "execution_count": null,
   "metadata": {},
   "outputs": [],
   "source": [
    ":def print_names(list_1: list):\n",
    "\n",
    "#         print_names(list_1)\n",
    "#         function requires a list to be passed as a parameter\n",
    "#         and will print hte contends of the litst. Expecting\n",
    "#         a list of names(Strings) to be passed.\n",
    "        \n",
    "    for name in list_1:\n",
    "        print(name)"
   ]
  },
  {
   "cell_type": "markdown",
   "metadata": {},
   "source": [
    "##### Using a User Function in a Loop"
   ]
  },
  {
   "cell_type": "code",
   "execution_count": null,
   "metadata": {},
   "outputs": [],
   "source": []
  },
  {
   "cell_type": "markdown",
   "metadata": {},
   "source": [
    "## Function Exercises <br>\n",
    "### Exercise 1\n",
    "<p>Write a function that loops through a list of first_names and a list of last_names, combines the two and return a list of full_names</p>"
   ]
  },
  {
   "cell_type": "code",
   "execution_count": 24,
   "metadata": {},
   "outputs": [
    {
     "name": "stdout",
     "output_type": "stream",
     "text": [
      "[('John', 'Smith'), ('Evan', 'Smith'), ('Jordan', 'Williams'), ('Max', 'Bell')]\n"
     ]
    }
   ],
   "source": [
    "first_name = ['John', 'Evan', 'Jordan', 'Max']\n",
    "last_name = ['Smith', 'Smith', 'Williams', 'Bell']\n",
    "\n",
    "# Output: ['John Smith', 'Evan Smith', 'Jordan Williams', 'Max Bell']\n",
    "\n",
    "def combine(list1: list, list2: list):\n",
    "    list3=[]\n",
    "    i=0\n",
    "    while i < len(list1):\n",
    "        full_name = list1[i],list2[i]\n",
    "        list3.append(full_name)\n",
    "        i=i+1\n",
    "    return list3\n",
    "\n",
    "full_names=combine(first_name, last_name)\n",
    "print(full_names)\n",
    "        "
   ]
  },
  {
   "cell_type": "markdown",
   "metadata": {},
   "source": [
    "### Exercise 2\n",
    "Create a function that alters all values in the given list by subtracting 5 and then doubling them."
   ]
  },
  {
   "cell_type": "code",
   "execution_count": 25,
   "metadata": {},
   "outputs": [
    {
     "name": "stdout",
     "output_type": "stream",
     "text": [
      "[0, 10, 20, 30, -4]\n"
     ]
    }
   ],
   "source": [
    "input_list = [5,10,15,20,3]\n",
    "# output = [0,10,20,30,-4]\n",
    "\n",
    "def modify(list4):\n",
    "    new_list=[]\n",
    "    for num in list4:\n",
    "        temp = num - 5\n",
    "        temp = temp * 2\n",
    "        new_list.append(temp)\n",
    "    return new_list\n",
    "new_list=modify(input_list)\n",
    "print(new_list)"
   ]
  },
  {
   "cell_type": "markdown",
   "metadata": {},
   "source": [
    "## Exercise 2.5\n",
    "\n",
    "Create a function that takes both a given list and another function (func), The function should return a list\n",
    "of items altered by the func. As an example, your func can subtract 5 and double each number"
   ]
  },
  {
   "cell_type": "code",
   "execution_count": 27,
   "metadata": {},
   "outputs": [
    {
     "name": "stdout",
     "output_type": "stream",
     "text": [
      "None\n"
     ]
    }
   ],
   "source": [
    "def inner_func(something):\n",
    "    new_list=[]\n",
    "    for num in something:\n",
    "        temp = num - 5\n",
    "        temp = temp * 2\n",
    "        new_list.append(temp)\n",
    "    return new_list\n",
    "\n",
    "def list_changer(alist, func):\n",
    "    new_list=func(alist)\n",
    "    \n",
    "list1=[5,13,27,31]\n",
    "new_list=list_changer(list1, inner_func)\n",
    "print(new_list)"
   ]
  },
  {
   "cell_type": "markdown",
   "metadata": {},
   "source": [
    "### Exercise 3\n",
    "Create a function that takes in a list of strings and filters out the strings that have less than 6 characters. "
   ]
  },
  {
   "cell_type": "code",
   "execution_count": 29,
   "metadata": {},
   "outputs": [
    {
     "name": "stdout",
     "output_type": "stream",
     "text": [
      "['Sheldon', 'Leonard', 'Howard', 'Stuart']\n"
     ]
    }
   ],
   "source": [
    "string_list = ['Sheldon','Penny','Leonard','Howard','Raj','Amy','Stuart']\n",
    "# output = ['Sheldon','Leonard','Amy']\n",
    "\n",
    "def long_names(list1):\n",
    "    new_list=[]\n",
    "    for name in list1:\n",
    "        if len(name)>5:\n",
    "            new_list.append(name)\n",
    "    return new_list\n",
    "\n",
    "output_list=long_names(string_list)\n",
    "print(output_list)\n"
   ]
  },
  {
   "cell_type": "markdown",
   "metadata": {},
   "source": [
    "### Exercise 4\n",
    "Create a function that accepts a list as a parameter and returns a dictionary containing the list items as it's keys, and the number of times they appear in the list as the values"
   ]
  },
  {
   "cell_type": "code",
   "execution_count": 31,
   "metadata": {},
   "outputs": [
    {
     "name": "stdout",
     "output_type": "stream",
     "text": [
      "{'Harry': 3, 'Hermione': 2, 'Ron': 4, 'Dobby': 1, 'Draco': 1, 'Luna': 1}\n"
     ]
    }
   ],
   "source": [
    "example_list = [\"Harry\", 'Hermione','Harry','Ron','Dobby','Draco','Luna','Harry','Hermione','Ron','Ron','Ron']\n",
    "\n",
    "# output = {\n",
    "#     \"Harry\":3,\n",
    "#     \"Hermione\":2,\n",
    "#     \"Ron\":4,\n",
    "#     \"Dobby\":1,\n",
    "#     \"Draco\":1,\n",
    "#     \"Luna\": 1\n",
    "# }\n",
    "\n",
    "def appearance(script):\n",
    "    screentime = {}\n",
    "    for character in script:\n",
    "        pages=0\n",
    "        for times in script:\n",
    "            if character == times:\n",
    "                pages = pages+1\n",
    "        screentime[character] = pages\n",
    "    return screentime\n",
    "\n",
    "screentime = appearance(example_list)\n",
    "print(screentime)\n",
    "\n",
    "\n",
    "            "
   ]
  },
  {
   "cell_type": "markdown",
   "metadata": {},
   "source": [
    "\n",
    "\n",
    "## Scope <br>\n",
    "<p>Scope refers to the ability to access variables, different types of scope include:<br>a) Global<br>b) Function (local)<br>c) Class (local)</p>"
   ]
  },
  {
   "cell_type": "code",
   "execution_count": 117,
   "metadata": {},
   "outputs": [
    {
     "name": "stdout",
     "output_type": "stream",
     "text": [
      "3\n",
      "6\n"
     ]
    }
   ],
   "source": [
    "# placement of variable declaration matters\n",
    "\n",
    "number = 3 # Gloal Variable\n",
    "\n",
    "def myFunc():\n",
    "    num_3 = 6 # Local Function Variable\n",
    "    return num_3\n",
    "\n",
    "print(number)\n",
    "return_num = myFunc()\n",
    "print(return_num)"
   ]
  },
  {
   "cell_type": "markdown",
   "metadata": {},
   "source": [
    "# Homework Exercises"
   ]
  },
  {
   "cell_type": "markdown",
   "metadata": {},
   "source": [
    "## Exercise 1 <br>\n",
    "<p>Given a list as a parameter,write a function that returns a list of numbers that are less than ten</b></i></p><br>\n",
    "<p> For example: Say your input parameter to the function is [1,11,14,5,8,9]...Your output should [1,5,8,9]</p>"
   ]
  },
  {
   "cell_type": "code",
   "execution_count": 34,
   "metadata": {},
   "outputs": [
    {
     "name": "stdout",
     "output_type": "stream",
     "text": [
      "[1, 5, 8, 9]\n"
     ]
    }
   ],
   "source": [
    "# Use the following list - [1,11,14,5,8,9]\n",
    "\n",
    "l_1 = [1,11,14,5,8,9]\n",
    "\n",
    "def under_ten(l_1):\n",
    "    l_2=[x for x in l_1 if x <10]\n",
    "    return l_2\n",
    "\n",
    "l_2=under_ten(l_1)\n",
    "print(l_2)"
   ]
  },
  {
   "cell_type": "markdown",
   "metadata": {},
   "source": [
    "## Exercise 2 <br>\n",
    "<p>Write a function that takes in two lists and returns the two lists merged together and sorted<br>\n",
    "<b><i>Hint: You can use the .sort() method</i></b></p>"
   ]
  },
  {
   "cell_type": "code",
   "execution_count": 33,
   "metadata": {},
   "outputs": [
    {
     "name": "stdout",
     "output_type": "stream",
     "text": [
      "[1, 2, 3, 3, 4, 4, 5, 5, 6, 6, 7, 8, 10]\n"
     ]
    }
   ],
   "source": [
    "l_1 = [1,2,3,4,5,6]\n",
    "l_2 = [3,4,5,6,7,8,10]\n",
    "\n",
    "def combo(l_1, l_2):\n",
    "    l_3 = l_1\n",
    "    for num in l_2:\n",
    "        l_3.append(num)\n",
    "    l_3.sort()\n",
    "    return l_3\n",
    "\n",
    "l_3=combo(l_1, l_2)\n",
    "print(l_3)"
   ]
  },
  {
   "cell_type": "code",
   "execution_count": null,
   "metadata": {},
   "outputs": [],
   "source": []
  }
 ],
 "metadata": {
  "kernelspec": {
   "display_name": "Python 3 (ipykernel)",
   "language": "python",
   "name": "python3"
  },
  "language_info": {
   "codemirror_mode": {
    "name": "ipython",
    "version": 3
   },
   "file_extension": ".py",
   "mimetype": "text/x-python",
   "name": "python",
   "nbconvert_exporter": "python",
   "pygments_lexer": "ipython3",
   "version": "3.9.7"
  }
 },
 "nbformat": 4,
 "nbformat_minor": 2
}
